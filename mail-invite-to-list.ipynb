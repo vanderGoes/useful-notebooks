{
 "cells": [
  {
   "cell_type": "markdown",
   "metadata": {},
   "source": [
    "# Mail invite to list\n",
    "Send an e-mail with agenda invite to a list of recipients."
   ]
  },
  {
   "cell_type": "code",
   "execution_count": null,
   "metadata": {
    "colab": {},
    "colab_type": "code",
    "id": "MJJiA97xWscH"
   },
   "outputs": [],
   "source": [
    "from email.mime.multipart import MIMEMultipart\n",
    "from email.mime.text import MIMEText\n",
    "from email.mime.image import MIMEImage\n",
    "from email.mime.application import MIMEApplication\n",
    "from email.utils import formatdate\n",
    "\n",
    "from os.path import basename\n",
    "\n",
    "from IPython.display import display, HTML\n",
    "\n",
    "import pandas as pd\n",
    "import smtplib\n",
    "import time"
   ]
  },
  {
   "cell_type": "code",
   "execution_count": null,
   "metadata": {
    "colab": {},
    "colab_type": "code",
    "id": "zZes_Ls-WscT"
   },
   "outputs": [],
   "source": [
    "# Files\n",
    "html_file = \"\" # HTML file\n",
    "email_list = \"\" # CSV file with columns email, and firstname to personalize\n",
    "agenda_invite = \"\" # ICS file\n",
    "\n",
    "# Email account\n",
    "mail_smtp = \"\"\n",
    "mail_username = \"\"\n",
    "mail_password = \"\"\n",
    "\n",
    "# Email content\n",
    "mail_from = \"\" # Email address\n",
    "mail_subject = \"\"\n",
    "mail_personalize = False"
   ]
  },
  {
   "cell_type": "code",
   "execution_count": null,
   "metadata": {
    "colab": {},
    "colab_type": "code",
    "id": "_9e1AQYtWsce"
   },
   "outputs": [],
   "source": [
    "# Open email content\n",
    "mail_text_html = open(html_file, \"r\").read()\n",
    "display(HTML(mail_text_html))"
   ]
  },
  {
   "cell_type": "code",
   "execution_count": null,
   "metadata": {
    "colab": {},
    "colab_type": "code",
    "id": "qNLVsoYJWscm"
   },
   "outputs": [],
   "source": [
    "# Open email list with addresses\n",
    "email_addresses = pd.read_csv(email_list, sep=\",\")\n",
    "recipients = email_addresses.to_dict('records')\n",
    "len(recipients)"
   ]
  },
  {
   "cell_type": "code",
   "execution_count": null,
   "metadata": {
    "colab": {},
    "colab_type": "code",
    "id": "F3zu8qUzWsc7"
   },
   "outputs": [],
   "source": [
    "# Connect to SMTP email server\n",
    "s = smtplib.SMTP(mail_smtp)\n",
    "s.login(mail_username, mail_password)\n",
    "\n",
    "# Send email per recipient\n",
    "for recipient in recipients:\n",
    "    \n",
    "    msg = MIMEMultipart()\n",
    "    msg['From'] = mail_from\n",
    "    msg['To'] = recipient['email']\n",
    "    msg['Subject'] = mail_subject\n",
    "    msg['Date'] = formatdate(localtime=True)\n",
    "    \n",
    "    # Personalize email \n",
    "    if mail_personalize:\n",
    "        mime_text_html = MIMEText(''.join(mail_text_html.format(recipient['firstname'])), 'html')\n",
    "    else:\n",
    "        mime_text_html = MIMEText(''.join(mail_text_html), 'html')\n",
    "    msg.attach(mime_text_html)\n",
    "    \n",
    "    # Add agenda invitation as attachment\n",
    "    with open(agenda_invite, \"rb\") as fil:\n",
    "        part = MIMEApplication(\n",
    "            fil.read(),\n",
    "            Name=basename(agenda_invite)\n",
    "        )\n",
    "        # After the file is closed\n",
    "        part['Content-Disposition'] = 'attachment; filename=\"%s\"' % basename(agenda_invite)\n",
    "        msg.attach(part)\n",
    "    \n",
    "    s.sendmail(msg['From'], recipient['email'], msg.as_string())\n",
    "    \n",
    "    print(\"Email send to: {0}\".format(msg['To']))\n",
    "    time.sleep(5) # Break to prevent spam warnings\n",
    "    \n",
    "s.quit()"
   ]
  },
  {
   "cell_type": "code",
   "execution_count": null,
   "metadata": {
    "colab": {},
    "colab_type": "code",
    "id": "Psmi9kcLWsdA"
   },
   "outputs": [],
   "source": []
  }
 ],
 "metadata": {
  "colab": {
   "collapsed_sections": [],
   "name": "mailing.ipynb",
   "provenance": []
  },
  "kernelspec": {
   "display_name": "Python 3",
   "language": "python",
   "name": "python3"
  },
  "language_info": {
   "codemirror_mode": {
    "name": "ipython",
    "version": 3
   },
   "file_extension": ".py",
   "mimetype": "text/x-python",
   "name": "python",
   "nbconvert_exporter": "python",
   "pygments_lexer": "ipython3",
   "version": "3.8.3"
  }
 },
 "nbformat": 4,
 "nbformat_minor": 4
}
