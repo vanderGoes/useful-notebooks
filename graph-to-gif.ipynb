{
 "cells": [
  {
   "cell_type": "markdown",
   "metadata": {},
   "source": [
    "# Graph to Gif\n",
    "Visualize a dataset into an animated graph as gif. [Based on Animate your Graphs in Python in 4 Easy Steps!](https://towardsdatascience.com/animate-your-graphs-in-python-in-4-easy-steps-243dccad9a7)"
   ]
  },
  {
   "cell_type": "code",
   "execution_count": null,
   "metadata": {},
   "outputs": [],
   "source": [
    "# Parameters\n",
    "\n",
    "# Dataset\n",
    "datafile = \"\"\n",
    "date_col = \"\"\n",
    "value_col = \"\"\n",
    "\n",
    "# Graph\n",
    "graph_size = (5,6)\n",
    "graph_style = \"default\"\n",
    "graph_title = \"\"\n",
    "x_lower_bound = \"2020-01-01\"\n",
    "x_upper_bound = \"2020-12-31\"\n",
    "x_format = \"%b\"\n",
    "y_label = \"\"\n",
    "y_lower_bound = 0\n",
    "y_upper_bound = 1005\n",
    "line_color = \"#ED553B\"\n",
    "\n",
    "# Gif\n",
    "gif_dir = \"pngs\"\n",
    "gif_name = \"graph\""
   ]
  },
  {
   "cell_type": "code",
   "execution_count": null,
   "metadata": {},
   "outputs": [],
   "source": [
    "!pip install -q xlrd moviepy"
   ]
  },
  {
   "cell_type": "code",
   "execution_count": null,
   "metadata": {},
   "outputs": [],
   "source": [
    "# Importing libraries\n",
    "import pandas as pd\n",
    "from datetime import datetime, timedelta\n",
    "import matplotlib.pyplot as plt\n",
    "import matplotlib.dates as mdates\n",
    "import glob\n",
    "import moviepy.editor as mpy"
   ]
  },
  {
   "cell_type": "code",
   "execution_count": null,
   "metadata": {},
   "outputs": [],
   "source": [
    "# Import data\n",
    "dataset = pd.read_excel(datafile)\n",
    "\n",
    "dataset = dataset[[date_col, value_col]]\n",
    "dataset = dataset.set_index(date_col)"
   ]
  },
  {
   "cell_type": "code",
   "execution_count": null,
   "metadata": {},
   "outputs": [],
   "source": [
    "!mkdir pngs"
   ]
  },
  {
   "cell_type": "code",
   "execution_count": null,
   "metadata": {},
   "outputs": [],
   "source": [
    "# Create and save graph\n",
    "\n",
    "# Define graph details\n",
    "plt.style.use(graph_style)\n",
    "fig, ax = plt.subplots(figsize=graph_size)\n",
    "ax.set_title(graph_title, fontsize=12)\n",
    "\n",
    "ax.set_xlim(pd.Timestamp(x_lower_bound), pd.Timestamp(x_upper_bound)) # Set x-axis to dates\n",
    "ax.xaxis.set_major_formatter(mdates.DateFormatter(x_format)) # Set x-axis to time unit\n",
    "\n",
    "ax.set_ylim(y_lower_bound, y_upper_bound)\n",
    "ax.set_ylabel(y_label, fontsize=10)\n",
    "\n",
    "plt.xticks(rotation=0)\n",
    "\n",
    "# Plot graphs per data point\n",
    "length = len(dataset.index)\n",
    "for i in range(0,length+1):\n",
    "    plt.plot(dataset[:i], linewidth=2, color=line_color)\n",
    "    \n",
    "    fig = ax.get_figure()\n",
    "    fig.show()\n",
    "    \n",
    "    fig.savefig(f\"{gif_dir}/{i:02d}.png\")\n",
    "    \n",
    "    # Add three additional images at the end\n",
    "    if i == length:\n",
    "        fig.savefig(f\"{gif_dir}/{i+1:02d}.png\")\n",
    "        fig.savefig(f\"{gif_dir}/{i+2:02d}.png\")\n",
    "        fig.savefig(f\"{gif_dir}/{i+3:02d}.png\")"
   ]
  },
  {
   "cell_type": "code",
   "execution_count": null,
   "metadata": {},
   "outputs": [],
   "source": [
    "# Generating the GIF\n",
    "fps = 6\n",
    "file_list = sorted(glob.glob(f'{gif_dir}/*'))\n",
    "clip = mpy.ImageSequenceClip(file_list, fps=fps)\n",
    "clip.write_gif('{}.gif'.format(gif_name), fps=fps)"
   ]
  },
  {
   "cell_type": "code",
   "execution_count": null,
   "metadata": {},
   "outputs": [],
   "source": []
  }
 ],
 "metadata": {
  "kernelspec": {
   "display_name": "Python 3",
   "language": "python",
   "name": "python3"
  },
  "language_info": {
   "codemirror_mode": {
    "name": "ipython",
    "version": 3
   },
   "file_extension": ".py",
   "mimetype": "text/x-python",
   "name": "python",
   "nbconvert_exporter": "python",
   "pygments_lexer": "ipython3",
   "version": "3.8.6"
  }
 },
 "nbformat": 4,
 "nbformat_minor": 4
}
